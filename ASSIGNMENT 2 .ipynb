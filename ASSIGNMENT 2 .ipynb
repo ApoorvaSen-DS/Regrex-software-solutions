{
 "cells": [
  {
   "cell_type": "markdown",
   "id": "8013dc84",
   "metadata": {},
   "source": [
    "## Task 2\n",
    "## Registration Id : SIRSS1067\n",
    "## APOORVA SEN\n"
   ]
  },
  {
   "cell_type": "code",
   "execution_count": 1,
   "id": "71a320b2",
   "metadata": {},
   "outputs": [
    {
     "name": "stdin",
     "output_type": "stream",
     "text": [
      "Enter the strig My name is Prasad\n"
     ]
    },
    {
     "name": "stdout",
     "output_type": "stream",
     "text": [
      "My\n"
     ]
    }
   ],
   "source": [
    "# Q1. Write a lambda expression to extract firstword of string \n",
    "inp = input(\"Enter the strig\")\n",
    "s = lambda a: a.split(\" \")[0]\n",
    "print(s(inp))"
   ]
  },
  {
   "cell_type": "code",
   "execution_count": 2,
   "id": "2b2a4af5",
   "metadata": {},
   "outputs": [
    {
     "name": "stdin",
     "output_type": "stream",
     "text": [
      "Enter the string I am doing the regex solutions \n"
     ]
    },
    {
     "name": "stdout",
     "output_type": "stream",
     "text": [
      "I\n"
     ]
    }
   ],
   "source": [
    "# Q2. Write afunctio to extract first word of s string (With many words separated by space).\n",
    "\n",
    "s = input(\"Enter the string\")\n",
    "list_of_s = s.split(\" \")\n",
    "print(s[0])"
   ]
  },
  {
   "cell_type": "code",
   "execution_count": 3,
   "id": "70e1b925",
   "metadata": {},
   "outputs": [
    {
     "name": "stdout",
     "output_type": "stream",
     "text": [
      "['This', 'My', 'Hey,', 'Ramu']\n"
     ]
    }
   ],
   "source": [
    "# Q3. Extract the first word from every string from list of strings by using map function.\n",
    "\n",
    "strings = [\"This is Regex software solutions assigment\",\n",
    "           \"My name is prasad\",\n",
    "           \"Hey, How are you!\",\n",
    "           \"Ramu is a good boy\"]\n",
    "def function1(strings):\n",
    "    return strings.split()[0]\n",
    "\n",
    "result= map(function1, strings)\n",
    "\n",
    "print(list(result))"
   ]
  },
  {
   "cell_type": "code",
   "execution_count": 4,
   "id": "c7bc6276",
   "metadata": {},
   "outputs": [
    {
     "name": "stdin",
     "output_type": "stream",
     "text": [
      "Enter the number:  6\n"
     ]
    },
    {
     "name": "stdout",
     "output_type": "stream",
     "text": [
      "[2, 3]\n"
     ]
    }
   ],
   "source": [
    "# Q4. write a function to return a list of prime factors of a given number.\n",
    "num = int(input(\"Enter the number: \"))\n",
    "\n",
    "def prime_factors(number):\n",
    "    l=[]\n",
    "    for i in range(2,(number+1)):\n",
    "        if(number%i==0):\n",
    "            flag = 1\n",
    "            for j in range(2, (i//2+1)):\n",
    "                if(i%j==0):\n",
    "                    flag=0\n",
    "                    break\n",
    "                \n",
    "            if(flag == 1):\n",
    "                l.append(i)\n",
    "    print(l)\n",
    "prime_factors(num)\n"
   ]
  },
  {
   "cell_type": "code",
   "execution_count": 5,
   "id": "49ef9acf",
   "metadata": {},
   "outputs": [
    {
     "name": "stdin",
     "output_type": "stream",
     "text": [
      "Enter numbers: 20\n",
      "Enter numbers: 10\n",
      "Enter numbers: 20\n",
      "Enter numbers: 30\n"
     ]
    },
    {
     "name": "stdout",
     "output_type": "stream",
     "text": [
      "2nd greater number among 4 numbers 20\n"
     ]
    }
   ],
   "source": [
    "## Q5.Write a function that finds 2nd largest among 4 numbers (repetitions are allowed , without sorting)\n",
    "list1 = []\n",
    "for i in range(4):\n",
    "    inp=int(input(\"Enter numbers:\"))\n",
    "    list1.append(inp)\n",
    "            \n",
    "\n",
    "first_max=max(list1[0],list1[1])\n",
    "second_max=min(list1[0],list1[1])\n",
    "for i in range(2,len(list1)):\n",
    "    if list1[i]>first_max:\n",
    "        second_max=first_max\n",
    "        first_max=list1[i]\n",
    "    else:\n",
    "        if list1[i]>second_max:\n",
    "            second_max=list1[i]\n",
    "            \n",
    "print(\"2nd greater number among 4 numbers\", +second_max)"
   ]
  },
  {
   "cell_type": "code",
   "execution_count": null,
   "id": "b0b3478d",
   "metadata": {},
   "outputs": [],
   "source": []
  }
 ],
 "metadata": {
  "kernelspec": {
   "display_name": "Python 3",
   "language": "python",
   "name": "python3"
  },
  "language_info": {
   "codemirror_mode": {
    "name": "ipython",
    "version": 3
   },
   "file_extension": ".py",
   "mimetype": "text/x-python",
   "name": "python",
   "nbconvert_exporter": "python",
   "pygments_lexer": "ipython3",
   "version": "3.9.5"
  }
 },
 "nbformat": 4,
 "nbformat_minor": 5
}
