{
 "cells": [
  {
   "cell_type": "markdown",
   "id": "4e650f33",
   "metadata": {},
   "source": [
    "## Task1\n",
    "\n",
    "## ID SIRSS1067\n",
    "\n",
    "## APOORVA SEN"
   ]
  },
  {
   "cell_type": "markdown",
   "id": "9f1ff2e0",
   "metadata": {},
   "source": [
    "## Write a funcion to return n-th term of Fibonacci Series"
   ]
  },
  {
   "cell_type": "code",
   "execution_count": 1,
   "id": "6bfe45de",
   "metadata": {},
   "outputs": [
    {
     "name": "stdout",
     "output_type": "stream",
     "text": [
      "Enter the nth number :4\n"
     ]
    },
    {
     "data": {
      "text/plain": [
       "2"
      ]
     },
     "execution_count": 1,
     "metadata": {},
     "output_type": "execute_result"
    }
   ],
   "source": [
    "num = int(input(\"Enter the nth number :\"))\n",
    "\n",
    "def fib_series(number):\n",
    "    if (number ==0 or number ==1):\n",
    "        return 1\n",
    "    else:\n",
    "        first = 0\n",
    "        second = 1\n",
    "        for i in range(2,num):\n",
    "            next_element = first + second\n",
    "            first = second\n",
    "            second= next_element\n",
    "            \n",
    "        return next_element\n",
    "    \n",
    "fib_series(num)"
   ]
  },
  {
   "cell_type": "markdown",
   "id": "8b316c3a",
   "metadata": {},
   "source": [
    "## Write a function to find out the GCD of two numbers using EUCLID's Algorithm."
   ]
  },
  {
   "cell_type": "code",
   "execution_count": 2,
   "id": "0c8be033",
   "metadata": {},
   "outputs": [
    {
     "name": "stdout",
     "output_type": "stream",
     "text": [
      "Enter first number: 2\n",
      "Enter second number: 2\n"
     ]
    },
    {
     "data": {
      "text/plain": [
       "2"
      ]
     },
     "execution_count": 2,
     "metadata": {},
     "output_type": "execute_result"
    }
   ],
   "source": [
    "a = int(input(\"Enter first number: \"))\n",
    "b = int(input(\"Enter second number: \"))\n",
    "\n",
    "def GCD(a,b):\n",
    "    while(a!=b):\n",
    "        if (a>b):\n",
    "            a = a-b\n",
    "        else:\n",
    "            b=b-a\n",
    "            \n",
    "    return a\n",
    "\n",
    "GCD(a,b)"
   ]
  },
  {
   "cell_type": "markdown",
   "id": "3176064e",
   "metadata": {},
   "source": [
    "## Write a function to find out the LCM of two numbers "
   ]
  },
  {
   "cell_type": "code",
   "execution_count": 3,
   "id": "2c172917",
   "metadata": {},
   "outputs": [
    {
     "name": "stdout",
     "output_type": "stream",
     "text": [
      "Enter first number: 2\n",
      "Enter second number: 3\n"
     ]
    },
    {
     "data": {
      "text/plain": [
       "6.0"
      ]
     },
     "execution_count": 3,
     "metadata": {},
     "output_type": "execute_result"
    }
   ],
   "source": [
    "a = int(input(\"Enter first number: \"))\n",
    "b = int(input(\"Enter second number: \"))\n",
    "\n",
    "def GCD(a,b):\n",
    "    if(a==0):\n",
    "        return b\n",
    "    return GCD(b%a,a)\n",
    "\n",
    "def lcm(a,b):\n",
    "    return (a / GCD(a,b))*b;\n",
    "\n",
    "lcm(a,b)"
   ]
  },
  {
   "cell_type": "code",
   "execution_count": null,
   "id": "696b4632",
   "metadata": {},
   "outputs": [],
   "source": []
  }
 ],
 "metadata": {
  "kernelspec": {
   "display_name": "Python 3",
   "language": "python",
   "name": "python3"
  },
  "language_info": {
   "codemirror_mode": {
    "name": "ipython",
    "version": 3
   },
   "file_extension": ".py",
   "mimetype": "text/x-python",
   "name": "python",
   "nbconvert_exporter": "python",
   "pygments_lexer": "ipython3",
   "version": "3.9.5"
  }
 },
 "nbformat": 4,
 "nbformat_minor": 5
}
